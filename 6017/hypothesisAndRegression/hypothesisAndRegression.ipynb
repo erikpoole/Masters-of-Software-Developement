{
 "cells": [
  {
   "cell_type": "code",
   "execution_count": 1,
   "metadata": {},
   "outputs": [],
   "source": [
    "# Part 1: A/B Hypothesis testing\n",
    "# Null Hypothesis = there is no difference between groups A & B\n",
    "# aClicks/aViews - bClicks/bViews = 0"
   ]
  },
  {
   "cell_type": "code",
   "execution_count": 2,
   "metadata": {},
   "outputs": [],
   "source": [
    "import scipy as sc\n",
    "from scipy.stats import norm"
   ]
  },
  {
   "cell_type": "code",
   "execution_count": 3,
   "metadata": {},
   "outputs": [],
   "source": [
    "aViews = 1000\n",
    "aClicks = 500\n",
    "\n",
    "bViews = 1000\n",
    "bClicks = 550"
   ]
  },
  {
   "cell_type": "code",
   "execution_count": 4,
   "metadata": {},
   "outputs": [],
   "source": [
    "aProportion = aClicks / aViews\n",
    "bProportion = bClicks / bViews\n",
    "\n",
    "aSTD = sc.sqrt(aProportion * (1-aProportion)/aViews)\n",
    "bSTD = sc.sqrt(bProportion * (1-bProportion)/bViews)"
   ]
  },
  {
   "cell_type": "code",
   "execution_count": 5,
   "metadata": {},
   "outputs": [],
   "source": [
    "# print(aProportion)\n",
    "# print(bProportion)\n",
    "# print(aSTD)\n",
    "# print(bSTD)"
   ]
  },
  {
   "cell_type": "code",
   "execution_count": 6,
   "metadata": {},
   "outputs": [],
   "source": [
    "pHat = (aViews*aProportion) / (aViews+bViews) + (bViews*bProportion) / (aViews+bViews)\n",
    "qHat = 1-pHat"
   ]
  },
  {
   "cell_type": "code",
   "execution_count": 7,
   "metadata": {},
   "outputs": [],
   "source": [
    "# print(pHat)\n",
    "# print(qHat)"
   ]
  },
  {
   "cell_type": "code",
   "execution_count": 8,
   "metadata": {},
   "outputs": [
    {
     "name": "stdout",
     "output_type": "stream",
     "text": [
      "0.8413447460685429\n"
     ]
    }
   ],
   "source": [
    "z = (aProportion - bProportion) / sc.sqrt(pHat*qHat*(1/aViews + 1/bViews))\n",
    "\n",
    "# not 1-(norm.cfc(z)) because we're checking to see if z value is outlandish (not in the normal distribution)\n",
    "p = norm.cdf(z)\n",
    "\n",
    "print(norm.cdf(1))"
   ]
  },
  {
   "cell_type": "code",
   "execution_count": 9,
   "metadata": {},
   "outputs": [
    {
     "name": "stdout",
     "output_type": "stream",
     "text": [
      "z:  -2.238868314198227\n",
      "p:  0.012582242850159199\n"
     ]
    }
   ],
   "source": [
    "print(\"z: \", z)\n",
    "print(\"p: \", p)"
   ]
  },
  {
   "cell_type": "code",
   "execution_count": 10,
   "metadata": {},
   "outputs": [],
   "source": [
    "# The null hypothesis is overturned!  \n",
    "# The two logos produce different results (we'd expect that logo b is outperforming logo a...)"
   ]
  },
  {
   "cell_type": "code",
   "execution_count": null,
   "metadata": {},
   "outputs": [],
   "source": []
  },
  {
   "cell_type": "code",
   "execution_count": null,
   "metadata": {},
   "outputs": [],
   "source": []
  },
  {
   "cell_type": "code",
   "execution_count": 11,
   "metadata": {},
   "outputs": [],
   "source": [
    "# Part 2: Regression of real estate data"
   ]
  },
  {
   "cell_type": "code",
   "execution_count": 29,
   "metadata": {},
   "outputs": [],
   "source": [
    "import pandas as pd\n",
    "import numpy as np\n",
    "import matplotlib.pyplot as plt"
   ]
  },
  {
   "cell_type": "code",
   "execution_count": 13,
   "metadata": {},
   "outputs": [],
   "source": [
    "importFrame1 = pd.read_csv(\"realEstate1.csv\")\n",
    "importFrame2 = pd.read_csv(\"realEstate2.csv\")"
   ]
  },
  {
   "cell_type": "code",
   "execution_count": 14,
   "metadata": {},
   "outputs": [],
   "source": [
    "baseSet = pd.concat([importFrame1, importFrame2])"
   ]
  },
  {
   "cell_type": "code",
   "execution_count": 15,
   "metadata": {},
   "outputs": [],
   "source": [
    "# print(list(dataset))\n",
    "reducedColsSet = baseSet[['Acres', 'Deck', 'GaragCap', 'Latitude', 'Longitude', 'LstPrice', 'Patio', 'PkgSpacs', 'PropType', 'SoldPrice', 'Taxes', 'TotBed', 'TotBth', 'TotSqf', 'YearBlt']]\n",
    "\n",
    "filteredSet = reducedColsSet[(reducedColsSet.LstPrice >= 200000) & (reducedColsSet.LstPrice <= 1000000)]\n",
    "filteredSet = filteredSet[(filteredSet.Longitude < -100) & (filteredSet.Longitude > -120)]\n",
    "filteredSet = filteredSet[(filteredSet.Taxes < 20000)]\n",
    "\n",
    "filteredSet['TotSqf'] = pd.to_numeric(filteredSet['TotSqf'].str.replace(',', ''))\n",
    "\n",
    "propTypeList = [];\n",
    "for i in filteredSet['PropType']:\n",
    "    if i == \"Single Family\":\n",
    "        propTypeList.append(1);\n",
    "    else:\n",
    "        propTypeList.append(0);\n",
    "\n",
    "filteredSet.insert(len(filteredSet.columns), \"Prop_Type_num\", propTypeList)\n",
    "\n",
    "# print(filteredSet)\n"
   ]
  },
  {
   "cell_type": "code",
   "execution_count": 16,
   "metadata": {},
   "outputs": [],
   "source": [
    "# There are 260 rows and 16 columns in the dataset.  \n",
    "# No remaining values seem unreasonable at a glance, though it's possible more will be discovered as I go forward."
   ]
  },
  {
   "cell_type": "code",
   "execution_count": 17,
   "metadata": {},
   "outputs": [
    {
     "data": {
      "image/png": "[encoded data removed]",
      "text/plain": [
       "<Figure size 432x288 with 1 Axes>"
      ]
     },
     "metadata": {
      "needs_background": "light"
     },
     "output_type": "display_data"
    }
   ],
   "source": [
    "houseTypeSet = filteredSet['PropType'].value_counts().plot.bar()"
   ]
  },
  {
   "cell_type": "code",
   "execution_count": 41,
   "metadata": {},
   "outputs": [
    {
     "data": {
      "image/png": "[encoded data removed]",
      "text/plain": [
       "<Figure size 432x288 with 2 Axes>"
      ]
     },
     "metadata": {
      "needs_background": "light"
     },
     "output_type": "display_data"
    }
   ],
   "source": [
    "fig, ax = plt.subplots()\n",
    "im = ax.pcolor(filteredSet.corr(), vmin=-1, vmax=1)\n",
    "cbar = fig.colorbar(im)\n",
    "\n",
    "dummy = plt.xticks(np.arange(0, len(filteredSet.columns), 1.0))\n",
    "dummy = plt.yticks(np.arange(0, len(filteredSet.columns), 1.0))"
   ]
  },
  {
   "cell_type": "code",
   "execution_count": null,
   "metadata": {},
   "outputs": [],
   "source": []
  },
  {
   "cell_type": "code",
   "execution_count": 19,
   "metadata": {},
   "outputs": [],
   "source": [
    "# houseTypeSet.describe()\n",
    "# print(houseTypeSet)\n",
    "\n",
    "\n",
    "\n",
    "# df.groupby([df.index.date, 'action']).count()"
   ]
  }
 ],
 "metadata": {
  "kernelspec": {
   "display_name": "Python 3",
   "language": "python",
   "name": "python3"
  },
  "language_info": {
   "codemirror_mode": {
    "name": "ipython",
    "version": 3
   },
   "file_extension": ".py",
   "mimetype": "text/x-python",
   "name": "python",
   "nbconvert_exporter": "python",
   "pygments_lexer": "ipython3",
   "version": "3.7.3"
  }
 },
 "nbformat": 4,
 "nbformat_minor": 2
}
