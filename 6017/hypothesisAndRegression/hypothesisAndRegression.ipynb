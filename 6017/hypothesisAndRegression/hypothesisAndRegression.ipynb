{
 "cells": [
  {
   "cell_type": "code",
   "execution_count": 1,
   "metadata": {},
   "outputs": [],
   "source": [
    "# Part 1: A/B Hypothesis testing\n",
    "# Null Hypothesis = there is no difference between groups A & B\n",
    "# aClicks/aViews - bClicks/bViews = 0"
   ]
  },
  {
   "cell_type": "code",
   "execution_count": 2,
   "metadata": {},
   "outputs": [],
   "source": [
    "import scipy as sc\n",
    "from scipy.stats import norm"
   ]
  },
  {
   "cell_type": "code",
   "execution_count": 3,
   "metadata": {},
   "outputs": [],
   "source": [
    "aViews = 1000\n",
    "aClicks = 500\n",
    "\n",
    "bViews = 1000\n",
    "bClicks = 550"
   ]
  },
  {
   "cell_type": "code",
   "execution_count": 4,
   "metadata": {},
   "outputs": [],
   "source": [
    "aProportion = aClicks / aViews\n",
    "bProportion = bClicks / bViews\n",
    "\n",
    "aSTD = sc.sqrt(aProportion * (1-aProportion)/aViews)\n",
    "bSTD = sc.sqrt(bProportion * (1-bProportion)/bViews)"
   ]
  },
  {
   "cell_type": "code",
   "execution_count": 5,
   "metadata": {},
   "outputs": [],
   "source": [
    "# print(aProportion)\n",
    "# print(bProportion)\n",
    "# print(aSTD)\n",
    "# print(bSTD)"
   ]
  },
  {
   "cell_type": "code",
   "execution_count": 6,
   "metadata": {},
   "outputs": [],
   "source": [
    "pHat = (aViews*aProportion) / (aViews+bViews) + (bViews*bProportion) / (aViews+bViews)\n",
    "qHat = 1-pHat"
   ]
  },
  {
   "cell_type": "code",
   "execution_count": 7,
   "metadata": {},
   "outputs": [],
   "source": [
    "# print(pHat)\n",
    "# print(qHat)"
   ]
  },
  {
   "cell_type": "code",
   "execution_count": 8,
   "metadata": {},
   "outputs": [
    {
     "name": "stdout",
     "output_type": "stream",
     "text": [
      "0.8413447460685429\n"
     ]
    }
   ],
   "source": [
    "z = (aProportion - bProportion) / sc.sqrt(pHat*qHat*(1/aViews + 1/bViews))\n",
    "\n",
    "# not 1-(norm.cfc(z)) because we're checking to see if z value is outlandish (not in the normal distribution)\n",
    "p = norm.cdf(z)\n",
    "\n",
    "print(norm.cdf(1))"
   ]
  },
  {
   "cell_type": "code",
   "execution_count": 9,
   "metadata": {},
   "outputs": [
    {
     "name": "stdout",
     "output_type": "stream",
     "text": [
      "z:  -2.238868314198227\n",
      "p:  0.012582242850159199\n"
     ]
    }
   ],
   "source": [
    "print(\"z: \", z)\n",
    "print(\"p: \", p)"
   ]
  },
  {
   "cell_type": "code",
   "execution_count": 10,
   "metadata": {},
   "outputs": [],
   "source": [
    "# The null hypothesis is overturned!  \n",
    "# The two logos produce different results (we'd expect that logo b is outperforming logo a...)"
   ]
  },
  {
   "cell_type": "code",
   "execution_count": null,
   "metadata": {},
   "outputs": [],
   "source": []
  },
  {
   "cell_type": "code",
   "execution_count": null,
   "metadata": {},
   "outputs": [],
   "source": []
  },
  {
   "cell_type": "code",
   "execution_count": 11,
   "metadata": {},
   "outputs": [],
   "source": [
    "# Part 2: Regression of real estate data"
   ]
  },
  {
   "cell_type": "code",
   "execution_count": 12,
   "metadata": {},
   "outputs": [],
   "source": [
    "import pandas as pd"
   ]
  },
  {
   "cell_type": "code",
   "execution_count": 13,
   "metadata": {},
   "outputs": [],
   "source": [
    "importFrame1 = pd.read_csv(\"realEstate1.csv\")\n",
    "importFrame2 = pd.read_csv(\"realEstate2.csv\")"
   ]
  },
  {
   "cell_type": "code",
   "execution_count": 14,
   "metadata": {},
   "outputs": [],
   "source": [
    "baseSet = pd.concat([importFrame1, importFrame2])"
   ]
  },
  {
   "cell_type": "code",
   "execution_count": 15,
   "metadata": {},
   "outputs": [
    {
     "name": "stdout",
     "output_type": "stream",
     "text": [
      "     Acres  Deck  GaragCap   Latitude   Longitude  LstPrice  Patio  PkgSpacs  \\\n",
      "0     0.29     1         3  40.779524 -111.893542    725000      1         0   \n",
      "1     0.01     0         0  40.773243 -111.883291    205000      0         0   \n",
      "2     0.11     0         0  40.773972 -111.867470    390000      1         0   \n",
      "3     0.14     0         1  40.783009 -111.872100    445000      1         3   \n",
      "5     0.01     0         2  40.771693 -111.886951    339000      0         2   \n",
      "6     0.14     1         2  40.783889 -111.872194    600000      1         2   \n",
      "7     0.01     1         0  40.775431 -111.873783    209900      0         1   \n",
      "9     0.09     0         0  40.775075 -111.872260    399900      1         3   \n",
      "10    0.01     1         1  40.772489 -111.884959    450000      0         0   \n",
      "12    0.07     0         0  40.772800 -111.877568    300000      0         2   \n",
      "13    0.09     0         1  40.781456 -111.891783    489900      0         3   \n",
      "16    0.07     0         0  40.784531 -111.872999    359500      2         2   \n",
      "17    0.09     0         1  40.771684 -111.866400    225000      0         0   \n",
      "18    0.08     0         1  40.776419 -111.868179    359000      1         3   \n",
      "19    0.00     1         1  40.774293 -111.890734    229000      0         0   \n",
      "22    0.11     2         0  40.782427 -111.875999    475000      1         1   \n",
      "24    0.01     0         1  40.770572 -111.886124    200000      1         1   \n",
      "25    0.17     1         2  40.772800 -111.880048    499900      0         0   \n",
      "26    0.06     0         0  40.776493 -111.894061    349000      0         1   \n",
      "29    0.16     1         1  40.777951 -111.866999    375000      0         1   \n",
      "31    0.07     0         2  40.772647 -111.880198    399000      1         0   \n",
      "32    0.13     1         2  40.776112 -111.892273    619900      2         0   \n",
      "33    0.26     0         2  40.788615 -111.873527    499000      0         0   \n",
      "35    0.00     1         1  40.774143 -111.892214    319900      0         0   \n",
      "36    0.01     1         1  40.770600 -111.886156    250000      0         0   \n",
      "37    0.01     0         0  40.775106 -111.873924    200000      0         0   \n",
      "38    0.16     1         2  40.780882 -111.891609    499000      1         0   \n",
      "39    0.29     1         3  40.781875 -111.869454    640000      1         3   \n",
      "40    0.11     1         0  40.781623 -111.900999    269900      0         3   \n",
      "41    0.14     1         2  40.781900 -111.874193    599500      1         0   \n",
      "..     ...   ...       ...        ...         ...       ...    ...       ...   \n",
      "102   0.01     1         2  40.772276 -111.886521    289000      0         0   \n",
      "103   0.01     1         2  40.774001 -111.892032    269000      0         0   \n",
      "106   0.59     2         3  40.781987 -111.860854    850000      0         0   \n",
      "107   0.29     1         3  40.790666 -111.885893    649900      2         3   \n",
      "108   0.13     1         0  40.784760 -111.896381    315000      0         3   \n",
      "109   0.18     1         1  40.781096 -111.881026    599999      1         4   \n",
      "110   0.10     2         0  40.776877 -111.897279    399900      0         2   \n",
      "112   0.37     1         2  40.791059 -111.884505    519000      0         3   \n",
      "113   0.34     1         3  40.782663 -111.860829    814900      1         0   \n",
      "114   0.29     0         0  40.783185 -111.896999    449000      0         0   \n",
      "117   0.15     1         2  40.777642 -111.866142    665900      0         2   \n",
      "118   0.08     1         1  40.776215 -111.872783    399000      1         0   \n",
      "119   0.36     2         3  40.785514 -111.866773    850000      3         3   \n",
      "122   0.45     1         3  40.787674 -111.885861    995000      1         6   \n",
      "126   0.15     0         1  40.783022 -111.875490    405000      0         3   \n",
      "127   0.01     0         1  40.772276 -111.886521    229000      0         0   \n",
      "128   0.08     1         1  40.772598 -111.867751    408500      1         2   \n",
      "130   0.40     1         2  40.781328 -111.853842    779000      2         0   \n",
      "131   0.00     0         1  40.770555 -111.872562    269000      0         0   \n",
      "134   0.01     0         1  40.774001 -111.892032    249000      0         0   \n",
      "135   0.00     1         1  40.773058 -111.884470    350000      0         0   \n",
      "136   0.39     2         2  40.785859 -111.870205    849000      1         0   \n",
      "137   0.01     1         2  40.785569 -111.899699    379000      1         1   \n",
      "138   0.12     1         1  40.771219 -111.856599    533800      0         0   \n",
      "142   0.15     1         2  40.779253 -111.893385    549000      0         4   \n",
      "143   0.28     1         3  40.782933 -111.851143    995000      0         6   \n",
      "144   0.01     0         2  40.770904 -111.886201    349999      2         2   \n",
      "145   0.00     0         0  40.773843 -111.891911    249900      0         0   \n",
      "146   0.07     0         1  40.772835 -111.854867    330000      0         0   \n",
      "147   0.01     1         2  40.771980 -111.885262    385000      1         0   \n",
      "\n",
      "          PropType  SoldPrice  Taxes  TotBed  TotBth  TotSqf  YearBlt  \\\n",
      "0    Single Family     752000   7244     4.0     5.0    5415     1998   \n",
      "1            Condo     205000   1431     2.0     1.0     924     1965   \n",
      "2    Single Family     390000   1816     3.0     1.0    1702     1940   \n",
      "3    Single Family     443000   3260     3.0     2.0    1756     1940   \n",
      "5            Condo     334000   2141     3.0     2.0    1368     1976   \n",
      "6    Single Family     570000   4197     3.0     3.0    2956     1950   \n",
      "7            Condo     215000   1478     2.0     2.0    1085     1968   \n",
      "9    Single Family     399000   2207     3.0     2.0    1539     1916   \n",
      "10           Condo     445500   2904     2.0     3.0    2113     1985   \n",
      "12   Single Family     300000   2077     2.0     1.0    1082     1891   \n",
      "13   Single Family     478250   4232     3.0     3.0    3387     1986   \n",
      "16   Single Family     360000   1762     2.0     1.0    1211     1939   \n",
      "17   Single Family     225000   1554     2.0     0.0    2726     1889   \n",
      "18   Single Family     368000   1767     2.0     1.0    1656     1907   \n",
      "19           Condo     225000   1438     2.0     1.0    1000     1962   \n",
      "22   Single Family     480000   2221     3.0     2.0    2325     1936   \n",
      "24           Condo     190000   1605     1.0     2.0     944     1979   \n",
      "25   Single Family     503000   1909     3.0     2.0    2791     1895   \n",
      "26   Single Family     336500   2199     3.0     3.0    1919     1916   \n",
      "29   Single Family     365000   2385     2.0     1.0    2033     1906   \n",
      "31   Single Family     406000   2435     3.0     2.0    2300     1926   \n",
      "32   Single Family     597250   3223     5.0     4.0    4039     1868   \n",
      "33   Single Family     499000   4254     5.0     3.0    2954     1959   \n",
      "35           Condo     311500   2484     2.0     2.0    1600     1976   \n",
      "36           Condo     248000   1820     2.0     1.0     952     1966   \n",
      "37           Condo     200000   1150     2.0     2.0    1100     1968   \n",
      "38   Single Family     489000   3420     2.0     3.0    2714     1925   \n",
      "39   Single Family     560500   3973     5.0     4.0    3958     1951   \n",
      "40   Single Family     274500   1660     2.0     1.0    1196     1916   \n",
      "41   Single Family     570000   3710     4.0     3.0    2956     1937   \n",
      "..             ...        ...    ...     ...     ...     ...      ...   \n",
      "102          Condo     282500   1953     2.0     2.0    1167     1976   \n",
      "103          Condo     250000   2173     1.0     2.0    1200     1976   \n",
      "106  Single Family     790000   7481     4.0     4.0    4378     1995   \n",
      "107  Single Family     645000   4980     5.0     4.0    5334     1980   \n",
      "108  Single Family     315000   2046     3.0     2.0    1891     1900   \n",
      "109  Single Family     590000   2467     3.0     3.0    2448     1909   \n",
      "110  Single Family     395000   1302     5.0     2.0    2590     1909   \n",
      "112  Single Family     526000   4481     5.0     3.0    3300     1965   \n",
      "113  Single Family     795000   7252     6.0     5.0    5498     1994   \n",
      "114  Single Family     435000   2449     5.0     2.0    3317     1878   \n",
      "117  Single Family     650000   2373     6.0     4.0    3175     1936   \n",
      "118  Single Family     385000   2349     4.0     3.0    2700     1908   \n",
      "119  Single Family     825000   5917     2.0     4.0    4186     1955   \n",
      "122  Single Family     865000   8025     5.0     7.0    7508     1995   \n",
      "126  Single Family     403000   3091     3.0     3.0    2830     1937   \n",
      "127          Condo     227000   1776     2.0     2.0    1006     1976   \n",
      "128  Single Family     394000   2410     4.0     3.0    2010     1902   \n",
      "130  Single Family     750000   5771     5.0     4.0    4530     1979   \n",
      "131          Condo     255000   1465     2.0     1.0    1107     1912   \n",
      "134          Condo     242500   1980     1.0     2.0    1200     1976   \n",
      "135          Condo     310000   2904     2.0     3.0    2080     1985   \n",
      "136  Single Family     794000   5560     6.0     4.0    4840     1963   \n",
      "137      Townhouse     360000   2214     2.0     4.0    2540     2009   \n",
      "138  Single Family     529000   3928     3.0     3.0    3017     1898   \n",
      "142      Townhouse     535000   3870     5.0     4.0    3494     1998   \n",
      "143  Single Family     949000   6658     6.0     4.0    5740     1978   \n",
      "144          Condo     340000   1877     2.0     2.0    1473     1979   \n",
      "145          Condo     231000   2812     2.0     2.0    1385     1976   \n",
      "146  Single Family     310000   2079     5.0     3.0    2094     1886   \n",
      "147          Condo     370000   3644     2.0     2.0    2028     1981   \n",
      "\n",
      "     Prop_Type_num  \n",
      "0                1  \n",
      "1                0  \n",
      "2                1  \n",
      "3                1  \n",
      "5                0  \n",
      "6                1  \n",
      "7                0  \n",
      "9                1  \n",
      "10               0  \n",
      "12               1  \n",
      "13               1  \n",
      "16               1  \n",
      "17               1  \n",
      "18               1  \n",
      "19               0  \n",
      "22               1  \n",
      "24               0  \n",
      "25               1  \n",
      "26               1  \n",
      "29               1  \n",
      "31               1  \n",
      "32               1  \n",
      "33               1  \n",
      "35               0  \n",
      "36               0  \n",
      "37               0  \n",
      "38               1  \n",
      "39               1  \n",
      "40               1  \n",
      "41               1  \n",
      "..             ...  \n",
      "102              0  \n",
      "103              0  \n",
      "106              1  \n",
      "107              1  \n",
      "108              1  \n",
      "109              1  \n",
      "110              1  \n",
      "112              1  \n",
      "113              1  \n",
      "114              1  \n",
      "117              1  \n",
      "118              1  \n",
      "119              1  \n",
      "122              1  \n",
      "126              1  \n",
      "127              0  \n",
      "128              1  \n",
      "130              1  \n",
      "131              0  \n",
      "134              0  \n",
      "135              0  \n",
      "136              1  \n",
      "137              0  \n",
      "138              1  \n",
      "142              0  \n",
      "143              1  \n",
      "144              0  \n",
      "145              0  \n",
      "146              1  \n",
      "147              0  \n",
      "\n",
      "[260 rows x 16 columns]\n"
     ]
    }
   ],
   "source": [
    "# print(list(dataset))\n",
    "reducedColsSet = baseSet[['Acres', 'Deck', 'GaragCap', 'Latitude', 'Longitude', 'LstPrice', 'Patio', 'PkgSpacs', 'PropType', 'SoldPrice', 'Taxes', 'TotBed', 'TotBth', 'TotSqf', 'YearBlt']]\n",
    "\n",
    "filteredSet = reducedColsSet[(reducedColsSet.LstPrice >= 200000) & (reducedColsSet.LstPrice <= 1000000)]\n",
    "filteredSet = filteredSet[(filteredSet.Longitude < -100) & (filteredSet.Longitude > -120)]\n",
    "filteredSet = filteredSet[(filteredSet.Taxes < 20000)]\n",
    "\n",
    "filteredSet['TotSqf'] = pd.to_numeric(filteredSet['TotSqf'].str.replace(',', ''))\n",
    "\n",
    "propTypeList = [];\n",
    "for i in filteredSet['PropType']:\n",
    "    if i == \"Single Family\":\n",
    "        propTypeList.append(1);\n",
    "    else:\n",
    "        propTypeList.append(0);\n",
    "\n",
    "filteredSet.insert(len(filteredSet.columns), \"Prop_Type_num\", propTypeList)\n",
    "\n",
    "print(filteredSet)\n"
   ]
  }
 ],
 "metadata": {
  "kernelspec": {
   "display_name": "Python 3",
   "language": "python",
   "name": "python3"
  },
  "language_info": {
   "codemirror_mode": {
    "name": "ipython",
    "version": 3
   },
   "file_extension": ".py",
   "mimetype": "text/x-python",
   "name": "python",
   "nbconvert_exporter": "python",
   "pygments_lexer": "ipython3",
   "version": "3.7.3"
  }
 },
 "nbformat": 4,
 "nbformat_minor": 2
}
