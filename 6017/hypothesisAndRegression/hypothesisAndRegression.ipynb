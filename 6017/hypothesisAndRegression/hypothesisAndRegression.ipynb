{
 "cells": [
  {
   "cell_type": "code",
   "execution_count": 1,
   "metadata": {},
   "outputs": [],
   "source": [
    "# Part 1: A/B Hypothesis testing\n",
    "# Null Hypothesis = there is no difference between groups A & B\n",
    "# aClicks/aViews - bClicks/bViews = 0"
   ]
  },
  {
   "cell_type": "code",
   "execution_count": 2,
   "metadata": {},
   "outputs": [],
   "source": [
    "import scipy as sc\n",
    "from scipy.stats import norm"
   ]
  },
  {
   "cell_type": "code",
   "execution_count": 17,
   "metadata": {},
   "outputs": [],
   "source": [
    "aViews = 1000\n",
    "aClicks = 500\n",
    "\n",
    "bViews = 1000\n",
    "bClicks = 550"
   ]
  },
  {
   "cell_type": "code",
   "execution_count": 18,
   "metadata": {},
   "outputs": [],
   "source": [
    "aProportion = aClicks / aViews\n",
    "bProportion = bClicks / bViews\n",
    "\n",
    "aSTD = sc.sqrt(aProportion * (1-aProportion)/aViews)\n",
    "bSTD = sc.sqrt(bProportion * (1-bProportion)/bViews)"
   ]
  },
  {
   "cell_type": "code",
   "execution_count": 19,
   "metadata": {},
   "outputs": [],
   "source": [
    "# print(aProportion)\n",
    "# print(bProportion)\n",
    "# print(aSTD)\n",
    "# print(bSTD)"
   ]
  },
  {
   "cell_type": "code",
   "execution_count": 20,
   "metadata": {},
   "outputs": [],
   "source": [
    "pHat = (aViews*aProportion) / (aViews+bViews) + (bViews*bProportion) / (aViews+bViews)\n",
    "qHat = 1-pHat"
   ]
  },
  {
   "cell_type": "code",
   "execution_count": 25,
   "metadata": {},
   "outputs": [],
   "source": [
    "# print(pHat)\n",
    "# print(qHat)"
   ]
  },
  {
   "cell_type": "code",
   "execution_count": 22,
   "metadata": {},
   "outputs": [
    {
     "name": "stdout",
     "output_type": "stream",
     "text": [
      "0.8413447460685429\n"
     ]
    }
   ],
   "source": [
    "z = (aProportion - bProportion) / sc.sqrt(pHat*qHat*(1/aViews + 1/bViews))\n",
    "\n",
    "# not 1-(norm.cfc(z)) because we're checking to see if z value is outlandish (not in the normal distribution)\n",
    "p = norm.cdf(z)\n",
    "\n",
    "print(norm.cdf(1))"
   ]
  },
  {
   "cell_type": "code",
   "execution_count": 24,
   "metadata": {},
   "outputs": [
    {
     "name": "stdout",
     "output_type": "stream",
     "text": [
      "z:  -2.238868314198227\n",
      "p:  0.012582242850159199\n"
     ]
    }
   ],
   "source": [
    "print(\"z: \", z)\n",
    "print(\"p: \", p)"
   ]
  },
  {
   "cell_type": "code",
   "execution_count": 26,
   "metadata": {},
   "outputs": [],
   "source": [
    "# The null hypothesis is overturned!  \n",
    "# The two logos produce different results (we'd expect that logo b is outperforming logo a...)"
   ]
  },
  {
   "cell_type": "code",
   "execution_count": null,
   "metadata": {},
   "outputs": [],
   "source": []
  },
  {
   "cell_type": "code",
   "execution_count": null,
   "metadata": {},
   "outputs": [],
   "source": []
  },
  {
   "cell_type": "code",
   "execution_count": 27,
   "metadata": {},
   "outputs": [],
   "source": [
    "# Part 2: Regression of real estate data"
   ]
  },
  {
   "cell_type": "code",
   "execution_count": null,
   "metadata": {},
   "outputs": [],
   "source": []
  }
 ],
 "metadata": {
  "kernelspec": {
   "display_name": "Python 3",
   "language": "python",
   "name": "python3"
  },
  "language_info": {
   "codemirror_mode": {
    "name": "ipython",
    "version": 3
   },
   "file_extension": ".py",
   "mimetype": "text/x-python",
   "name": "python",
   "nbconvert_exporter": "python",
   "pygments_lexer": "ipython3",
   "version": "3.7.3"
  }
 },
 "nbformat": 4,
 "nbformat_minor": 2
}
