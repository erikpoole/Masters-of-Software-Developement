{
 "cells": [
  {
   "cell_type": "code",
   "execution_count": 1,
   "metadata": {},
   "outputs": [],
   "source": [
    "import pandas as pd\n",
    "import numpy as np\n",
    "import matplotlib.pyplot as plt\n",
    "\n",
    "from scipy.stats import norm\n",
    "from datetime import datetime"
   ]
  },
  {
   "cell_type": "code",
   "execution_count": 4,
   "metadata": {},
   "outputs": [],
   "source": [
    "def calculateMean(input_list):\n",
    "    total = 0;\n",
    "    for x in input_list:\n",
    "        total += x\n",
    "    return total / len(input_list)"
   ]
  },
  {
   "cell_type": "code",
   "execution_count": 8,
   "metadata": {},
   "outputs": [],
   "source": [
    "def calculateSTD(input_list):\n",
    "    valuesMean = calculateMean(input_list)\n",
    "    differencesList = []\n",
    "    for x in input_list:\n",
    "        differencesList.append((x - valuesMean) ** 2)\n",
    "    \n",
    "    return calculateMean(differencesList) ** .5"
   ]
  },
  {
   "cell_type": "code",
   "execution_count": 9,
   "metadata": {},
   "outputs": [
    {
     "name": "stdout",
     "output_type": "stream",
     "text": [
      "2.5\n",
      "1.118033988749895\n"
     ]
    }
   ],
   "source": [
    "Testing calculateMean & calculateSTD\n",
    "list = [1, 2, 3, 4]\n",
    "print(calculateMean(list))\n",
    "print(np.mean(list))\n",
    "print(calculateSTD(list))\n",
    "print(np.std(list))"
   ]
  },
  {
   "cell_type": "code",
   "execution_count": null,
   "metadata": {},
   "outputs": [],
   "source": [
    "def extractMonth(input_time):\n",
    "    date_time = datetime.strptime(input_time, '%m/%d/%y %H:%M')\n",
    "    return date_time.month\n",
    "    "
   ]
  },
  {
   "cell_type": "code",
   "execution_count": null,
   "metadata": {},
   "outputs": [],
   "source": [
    "def extractHour(input_time):\n",
    "    date_time = datetime.strptime(input_time, '%m/%d/%y %H:%M')\n",
    "    return date_time.hour\n"
   ]
  },
  {
   "cell_type": "code",
   "execution_count": null,
   "metadata": {},
   "outputs": [],
   "source": [
    "# # >>> from scipy.stats import norm\n",
    "# # >>> import matplotlib.pyplot as plt\n",
    "# # >>> fig, ax = plt.subplots(1, 1)\n",
    "\n",
    "# normal = norm()\n",
    "# subplot = plt.subplots(1, 1)\n",
    "# mean, var, skew, kurt = norm.stats(moments='mvsk')\n",
    "# # subplot.plot(x, normal.pdf(x), 'k-', lw=2, label='frozen pdf')\n",
    "\n",
    "# # Write functions to compute the mean, and standard deviation of a list of data\n"
   ]
  },
  {
   "cell_type": "code",
   "execution_count": null,
   "metadata": {
    "scrolled": false
   },
   "outputs": [],
   "source": [
    "inputFrame = pd.read_csv(\"2015-PM2.5.csv\", skiprows=2, index_col=0)\n",
    "# print(inputFrame)\n",
    "\n",
    "workingFrame = inputFrame['UG/M3.4'].to_frame()\n",
    "# print(workingFrame)\n",
    "\n",
    "workingFrame.plot()"
   ]
  },
  {
   "cell_type": "code",
   "execution_count": null,
   "metadata": {},
   "outputs": [],
   "source": [
    "monthFrame = workingFrame.groupby(extractMonth).mean()\n",
    "\n",
    "monthFrame.plot.bar()\n",
    "# print(monthFrame)"
   ]
  },
  {
   "cell_type": "code",
   "execution_count": null,
   "metadata": {},
   "outputs": [],
   "source": [
    "hourFrame = workingFrame.groupby(extractHour).mean()\n",
    "\n",
    "hourFrame.plot.bar()\n",
    "# print(hourFrame.describe())\n",
    "# print(hourFrame)"
   ]
  },
  {
   "cell_type": "code",
   "execution_count": null,
   "metadata": {},
   "outputs": [],
   "source": [
    "# print(workingFrame)\n",
    "\n",
    "# workingFrame.boxplot(by=workingFrame.groupby(extractMonth))\n",
    "\n",
    "# workingFrame.boxplot(by=pd.DataFrame.groupby(extractMonth))"
   ]
  },
  {
   "cell_type": "code",
   "execution_count": null,
   "metadata": {},
   "outputs": [],
   "source": [
    "hourFrame.boxplot()"
   ]
  }
 ],
 "metadata": {
  "kernelspec": {
   "display_name": "Python 3",
   "language": "python",
   "name": "python3"
  },
  "language_info": {
   "codemirror_mode": {
    "name": "ipython",
    "version": 3
   },
   "file_extension": ".py",
   "mimetype": "text/x-python",
   "name": "python",
   "nbconvert_exporter": "python",
   "pygments_lexer": "ipython3",
   "version": "3.7.3"
  }
 },
 "nbformat": 4,
 "nbformat_minor": 2
}
