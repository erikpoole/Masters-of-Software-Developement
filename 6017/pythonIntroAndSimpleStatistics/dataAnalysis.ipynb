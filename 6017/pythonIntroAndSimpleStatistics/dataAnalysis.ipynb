{
 "cells": [
  {
   "cell_type": "code",
   "execution_count": 1,
   "metadata": {},
   "outputs": [],
   "source": [
    "import pandas as pd\n",
    "import numpy as np\n",
    "import matplotlib.pyplot as plt\n",
    "\n",
    "from scipy.stats import norm\n",
    "from datetime import datetime"
   ]
  },
  {
   "cell_type": "code",
   "execution_count": 4,
   "metadata": {},
   "outputs": [],
   "source": [
    "def calculateMean(input_list):\n",
    "    total = 0;\n",
    "    for x in input_list:\n",
    "        total += x\n",
    "    return total / len(input_list)"
   ]
  },
  {
   "cell_type": "code",
   "execution_count": 8,
   "metadata": {},
   "outputs": [],
   "source": [
    "def calculateSTD(input_list):\n",
    "    valuesMean = calculateMean(input_list)\n",
    "    differencesList = []\n",
    "    for x in input_list:\n",
    "        differencesList.append((x - valuesMean) ** 2)\n",
    "    \n",
    "    return calculateMean(differencesList) ** .5"
   ]
  },
  {
   "cell_type": "code",
   "execution_count": null,
   "metadata": {},
   "outputs": [],
   "source": [
    "def extractMonth(input_time):\n",
    "    date_time = datetime.strptime(input_time, '%m/%d/%y %H:%M')\n",
    "    return date_time.month\n",
    "    "
   ]
  },
  {
   "cell_type": "code",
   "execution_count": null,
   "metadata": {},
   "outputs": [],
   "source": [
    "def extractHour(input_time):\n",
    "    date_time = datetime.strptime(input_time, '%m/%d/%y %H:%M')\n",
    "    return date_time.hour\n"
   ]
  },
  {
   "cell_type": "code",
   "execution_count": 32,
   "metadata": {},
   "outputs": [
    {
     "name": "stdout",
     "output_type": "stream",
     "text": [
      "-0.00969052221268524\n",
      "-0.009690522212685203\n",
      "1.0041034860150049\n",
      "1.0041034860150067\n"
     ]
    },
    {
     "data": {
      "text/plain": [
       "(array([  2.,   2.,   0.,   5.,   5.,   4.,  11.,  19.,  23.,  51.,  54.,\n",
       "         89., 138., 141., 236., 296., 319., 407., 467., 546., 564., 589.,\n",
       "        608., 636., 652., 616., 649., 496., 474., 406., 364., 289., 217.,\n",
       "        166., 133.,  96.,  65.,  53.,  38.,  21.,  23.,  12.,   6.,   5.,\n",
       "          2.,   2.,   2.,   0.,   0.,   1.]),\n",
       " array([-3.87931077, -3.71563433, -3.5519579 , -3.38828146, -3.22460502,\n",
       "        -3.06092859, -2.89725215, -2.73357571, -2.56989928, -2.40622284,\n",
       "        -2.2425464 , -2.07886997, -1.91519353, -1.7515171 , -1.58784066,\n",
       "        -1.42416422, -1.26048779, -1.09681135, -0.93313491, -0.76945848,\n",
       "        -0.60578204, -0.4421056 , -0.27842917, -0.11475273,  0.04892371,\n",
       "         0.21260014,  0.37627658,  0.53995301,  0.70362945,  0.86730589,\n",
       "         1.03098232,  1.19465876,  1.3583352 ,  1.52201163,  1.68568807,\n",
       "         1.84936451,  2.01304094,  2.17671738,  2.34039382,  2.50407025,\n",
       "         2.66774669,  2.83142312,  2.99509956,  3.158776  ,  3.32245243,\n",
       "         3.48612887,  3.64980531,  3.81348174,  3.97715818,  4.14083462,\n",
       "         4.30451105]),\n",
       " <a list of 50 Patch objects>)"
      ]
     },
     "execution_count": 32,
     "metadata": {},
     "output_type": "execute_result"
    },
    {
     "data": {
      "image/png": "[encoded data removed]",
      "text/plain": [
       "<Figure size 432x288 with 1 Axes>"
      ]
     },
     "metadata": {
      "needs_background": "light"
     },
     "output_type": "display_data"
    }
   ],
   "source": [
    "# Testing calculateMean & calculateSTD\n",
    "list = norm().rvs(10000)\n",
    "\n",
    "print(calculateMean(list))\n",
    "print(np.mean(list))\n",
    "print(calculateSTD(list))\n",
    "print(np.std(list))\n",
    "\n",
    "plt.hist(list, 50)"
   ]
  },
  {
   "cell_type": "code",
   "execution_count": null,
   "metadata": {},
   "outputs": [],
   "source": [
    "# # >>> from scipy.stats import norm\n",
    "# # >>> import matplotlib.pyplot as plt\n",
    "# # >>> fig, ax = plt.subplots(1, 1)\n",
    "\n",
    "# normal = norm()\n",
    "# subplot = plt.subplots(1, 1)\n",
    "# mean, var, skew, kurt = norm.stats(moments='mvsk')\n",
    "# # subplot.plot(x, normal.pdf(x), 'k-', lw=2, label='frozen pdf')\n",
    "\n",
    "# # Write functions to compute the mean, and standard deviation of a list of data\n"
   ]
  },
  {
   "cell_type": "code",
   "execution_count": null,
   "metadata": {
    "scrolled": false
   },
   "outputs": [],
   "source": [
    "inputFrame = pd.read_csv(\"2015-PM2.5.csv\", skiprows=2, index_col=0)\n",
    "# print(inputFrame)\n",
    "\n",
    "workingFrame = inputFrame['UG/M3.4'].to_frame()\n",
    "# print(workingFrame)\n",
    "\n",
    "workingFrame.plot()"
   ]
  },
  {
   "cell_type": "code",
   "execution_count": null,
   "metadata": {},
   "outputs": [],
   "source": [
    "monthFrame = workingFrame.groupby(extractMonth).mean()\n",
    "\n",
    "monthFrame.plot.bar()\n",
    "# print(monthFrame)"
   ]
  },
  {
   "cell_type": "code",
   "execution_count": null,
   "metadata": {},
   "outputs": [],
   "source": [
    "hourFrame = workingFrame.groupby(extractHour).mean()\n",
    "\n",
    "hourFrame.plot.bar()\n",
    "# print(hourFrame.describe())\n",
    "# print(hourFrame)"
   ]
  },
  {
   "cell_type": "code",
   "execution_count": null,
   "metadata": {},
   "outputs": [],
   "source": [
    "# print(workingFrame)\n",
    "\n",
    "# workingFrame.boxplot(by=workingFrame.groupby(extractMonth))\n",
    "\n",
    "# workingFrame.boxplot(by=pd.DataFrame.groupby(extractMonth))"
   ]
  },
  {
   "cell_type": "code",
   "execution_count": null,
   "metadata": {},
   "outputs": [],
   "source": [
    "hourFrame.boxplot()"
   ]
  }
 ],
 "metadata": {
  "kernelspec": {
   "display_name": "Python 3",
   "language": "python",
   "name": "python3"
  },
  "language_info": {
   "codemirror_mode": {
    "name": "ipython",
    "version": 3
   },
   "file_extension": ".py",
   "mimetype": "text/x-python",
   "name": "python",
   "nbconvert_exporter": "python",
   "pygments_lexer": "ipython3",
   "version": "3.7.3"
  }
 },
 "nbformat": 4,
 "nbformat_minor": 2
}
