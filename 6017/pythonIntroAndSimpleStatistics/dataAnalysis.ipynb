{
 "cells": [
  {
   "cell_type": "code",
   "execution_count": 1,
   "metadata": {},
   "outputs": [],
   "source": [
    "import pandas as pd\n",
    "import numpy as np\n",
    "\n",
    "from datetime import datetime\n",
    "\n",
    "inputFrame = pd.read_csv(\"2015-PM2.5.csv\", skiprows=2, index_col=0)\n",
    "\n",
    "# print(inputFrame)"
   ]
  },
  {
   "cell_type": "code",
   "execution_count": 2,
   "metadata": {},
   "outputs": [],
   "source": [
    "def extractMonth(input_time):\n",
    "    date_time = datetime.strptime(input_time, '%m/%d/%y %H:%M')\n",
    "    return date_time.month\n",
    "    "
   ]
  },
  {
   "cell_type": "code",
   "execution_count": 3,
   "metadata": {},
   "outputs": [],
   "source": [
    "def extractHour(input_time):\n",
    "    date_time = datetime.strptime(input_time, '%m/%d/%y %H:%M')\n",
    "    return date_time.hour\n"
   ]
  },
  {
   "cell_type": "code",
   "execution_count": 4,
   "metadata": {
    "scrolled": false
   },
   "outputs": [
    {
     "name": "stdout",
     "output_type": "stream",
     "text": [
      "Date\n",
      "1/1/15 0:00       26.8\n",
      "1/1/15 1:00       31.7\n",
      "1/1/15 2:00       29.8\n",
      "1/1/15 3:00       23.3\n",
      "1/1/15 4:00       24.9\n",
      "1/1/15 5:00       22.5\n",
      "1/1/15 6:00       19.6\n",
      "1/1/15 7:00       21.5\n",
      "1/1/15 8:00       21.1\n",
      "1/1/15 9:00       18.5\n",
      "1/1/15 10:00      15.1\n",
      "1/1/15 11:00      12.9\n",
      "1/1/15 12:00      11.9\n",
      "1/1/15 13:00      10.6\n",
      "1/1/15 14:00      10.0\n",
      "1/1/15 15:00      10.0\n",
      "1/1/15 16:00      10.1\n",
      "1/1/15 17:00      12.0\n",
      "1/1/15 18:00      14.1\n",
      "1/1/15 19:00      15.5\n",
      "1/1/15 20:00      16.8\n",
      "1/1/15 21:00      18.0\n",
      "1/1/15 22:00      14.8\n",
      "1/1/15 23:00      17.9\n",
      "1/2/15 0:00       19.7\n",
      "1/2/15 1:00       22.5\n",
      "1/2/15 2:00       20.9\n",
      "1/2/15 3:00       17.4\n",
      "1/2/15 4:00       17.4\n",
      "1/2/15 5:00       18.1\n",
      "                  ... \n",
      "12/30/15 18:00    22.6\n",
      "12/30/15 19:00    25.4\n",
      "12/30/15 20:00    20.0\n",
      "12/30/15 21:00    26.7\n",
      "12/30/15 22:00    32.9\n",
      "12/30/15 23:00    27.8\n",
      "12/31/15 0:00     20.1\n",
      "12/31/15 1:00     23.2\n",
      "12/31/15 2:00     29.7\n",
      "12/31/15 3:00     29.2\n",
      "12/31/15 4:00     18.7\n",
      "12/31/15 5:00      9.2\n",
      "12/31/15 6:00     12.4\n",
      "12/31/15 7:00     21.1\n",
      "12/31/15 8:00     18.9\n",
      "12/31/15 9:00     19.1\n",
      "12/31/15 10:00    18.1\n",
      "12/31/15 11:00    23.9\n",
      "12/31/15 12:00    20.8\n",
      "12/31/15 13:00    22.4\n",
      "12/31/15 14:00    21.2\n",
      "12/31/15 15:00    20.4\n",
      "12/31/15 16:00    23.1\n",
      "12/31/15 17:00    21.2\n",
      "12/31/15 18:00    16.7\n",
      "12/31/15 19:00    15.8\n",
      "12/31/15 20:00    19.5\n",
      "12/31/15 21:00    17.9\n",
      "12/31/15 22:00    15.6\n",
      "12/31/15 23:00    19.5\n",
      "Name: UG/M3.4, Length: 8760, dtype: float64\n"
     ]
    },
    {
     "data": {
      "text/plain": [
       "<matplotlib.axes._subplots.AxesSubplot at 0x1124e2400>"
      ]
     },
     "execution_count": 4,
     "metadata": {},
     "output_type": "execute_result"
    }
   ],
   "source": [
    "workingFrame = inputFrame['UG/M3.4']\n",
    "\n",
    "print(workingFrame)\n",
    "workingFrame.plot()"
   ]
  },
  {
   "cell_type": "code",
   "execution_count": 5,
   "metadata": {},
   "outputs": [
    {
     "data": {
      "text/plain": [
       "<matplotlib.axes._subplots.AxesSubplot at 0x1125918d0>"
      ]
     },
     "execution_count": 5,
     "metadata": {},
     "output_type": "execute_result"
    },
    {
     "data": {
      "image/png": "[encoded data removed]",
      "text/plain": [
       "<Figure size 432x288 with 1 Axes>"
      ]
     },
     "metadata": {
      "needs_background": "light"
     },
     "output_type": "display_data"
    }
   ],
   "source": [
    "monthFrame = workingFrame.groupby(extractMonth).mean().to_frame()\n",
    "\n",
    "monthFrame.plot.bar()\n",
    "# print(monthFrame)"
   ]
  },
  {
   "cell_type": "code",
   "execution_count": 6,
   "metadata": {},
   "outputs": [
    {
     "data": {
      "text/plain": [
       "<matplotlib.axes._subplots.AxesSubplot at 0x1128055c0>"
      ]
     },
     "execution_count": 6,
     "metadata": {},
     "output_type": "execute_result"
    },
    {
     "data": {
      "image/png": "[encoded data removed]",
      "text/plain": [
       "<Figure size 432x288 with 1 Axes>"
      ]
     },
     "metadata": {
      "needs_background": "light"
     },
     "output_type": "display_data"
    }
   ],
   "source": [
    "hourFrame = workingFrame.groupby(extractHour).mean().to_frame()\n",
    "\n",
    "hourFrame.plot.bar()\n",
    "# print(hourFrame)"
   ]
  },
  {
   "cell_type": "code",
   "execution_count": null,
   "metadata": {},
   "outputs": [],
   "source": []
  }
 ],
 "metadata": {
  "kernelspec": {
   "display_name": "Python 3",
   "language": "python",
   "name": "python3"
  },
  "language_info": {
   "codemirror_mode": {
    "name": "ipython",
    "version": 3
   },
   "file_extension": ".py",
   "mimetype": "text/x-python",
   "name": "python",
   "nbconvert_exporter": "python",
   "pygments_lexer": "ipython3",
   "version": "3.7.3"
  }
 },
 "nbformat": 4,
 "nbformat_minor": 2
}
